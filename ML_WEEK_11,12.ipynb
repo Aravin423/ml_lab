{
  "nbformat": 4,
  "nbformat_minor": 0,
  "metadata": {
    "colab": {
      "provenance": [],
      "authorship_tag": "ABX9TyO8svbJ7k85z7CCWRQP2q1n",
      "include_colab_link": true
    },
    "kernelspec": {
      "name": "python3",
      "display_name": "Python 3"
    },
    "language_info": {
      "name": "python"
    }
  },
  "cells": [
    {
      "cell_type": "markdown",
      "metadata": {
        "id": "view-in-github",
        "colab_type": "text"
      },
      "source": [
        "<a href=\"https://colab.research.google.com/github/Aravin423/ml_lab/blob/main/ML_WEEK_11%2C12.ipynb\" target=\"_parent\"><img src=\"https://colab.research.google.com/assets/colab-badge.svg\" alt=\"Open In Colab\"/></a>"
      ]
    },
    {
      "cell_type": "code",
      "execution_count": 12,
      "metadata": {
        "colab": {
          "base_uri": "https://localhost:8080/"
        },
        "id": "TQ_gvUADcQq7",
        "outputId": "02418b67-853f-484d-e4b7-350faccacade"
      },
      "outputs": [
        {
          "output_type": "stream",
          "name": "stdout",
          "text": [
            "   pregnant  glucose  bp  skin  insulin   bmi  pedigree  age  label\n",
            "0         6      148  72    35        0  33.6     0.627   50      1\n",
            "1         1       85  66    29        0  26.6     0.351   31      0\n",
            "2         8      183  64     0        0  23.3     0.672   32      1\n",
            "3         1       89  66    23       94  28.1     0.167   21      0\n",
            "4         0      137  40    35      168  43.1     2.288   33      1\n",
            "\n",
            "Training Features:\n",
            "     pregnant  insulin   bmi  age  glucose  bp  pedigree\n",
            "88         15      110  37.1   43      136  70     0.153\n",
            "467         0      100  36.8   25       97  64     0.600\n",
            "550         1        0  27.4   21      116  70     0.204\n",
            "147         2      119  30.5   34      106  64     1.400\n",
            "481         0        0  35.2   29      123  88     0.197\n",
            "\n",
            "Training Labels:\n",
            "88     1\n",
            "467    0\n",
            "550    0\n",
            "147    0\n",
            "481    0\n",
            "Name: label, dtype: int64\n",
            "\n",
            "Test Features:\n",
            "     pregnant  insulin   bmi  age  glucose  bp  pedigree\n",
            "285         7      135  26.0   51      136  74     0.647\n",
            "101         1        0  26.1   22      151  60     0.179\n",
            "581         6        0  25.0   27      109  60     0.206\n",
            "352         3        0  34.4   46       61  82     0.243\n",
            "726         1      180  36.1   25      116  78     0.496\n",
            "\n",
            "Predictions:\n",
            "[0 0 0 0 0]\n",
            "\n",
            "Test Labels:\n",
            "285    0\n",
            "101    0\n",
            "581    0\n",
            "352    0\n",
            "726    0\n",
            "Name: label, dtype: int64\n",
            "\n",
            "Accuracy: 0.6666666666666666\n"
          ]
        }
      ],
      "source": [
        "import pandas as pd\n",
        "from sklearn.tree import DecisionTreeClassifier\n",
        "from sklearn.model_selection import train_test_split\n",
        "from sklearn import metrics\n",
        "\n",
        "col_names = ['pregnant', 'glucose', 'bp', 'skin', 'insulin', 'bmi', 'pedigree', 'age', 'label']\n",
        "\n",
        "pima = pd.read_csv(\"/content/pima-indians-diabetes.data.csv\", header=None, names=col_names)\n",
        "print(pima.head())\n",
        "\n",
        "feature_cols = ['pregnant', 'insulin', 'bmi', 'age', 'glucose', 'bp', 'pedigree']\n",
        "X = pima[feature_cols]\n",
        "y = pima['label']\n",
        "\n",
        "\n",
        "X_train, X_test, y_train, y_test = train_test_split(X, y, test_size=0.3, random_state=1)  # 70% training, 30% test\n",
        "\n",
        "clf = DecisionTreeClassifier()\n",
        "\n",
        "clf = clf.fit(X_train, y_train)\n",
        "\n",
        "print(\"\\nTraining Features:\")\n",
        "print(X_train.head())\n",
        "print(\"\\nTraining Labels:\")\n",
        "print(y_train.head())\n",
        "\n",
        "y_pred = clf.predict(X_test)\n",
        "\n",
        "print(\"\\nTest Features:\")\n",
        "print(X_test.head())\n",
        "print(\"\\nPredictions:\")\n",
        "print(y_pred[:5])\n",
        "print(\"\\nTest Labels:\")\n",
        "print(y_test.head())\n",
        "\n",
        "print(\"\\nAccuracy:\", metrics.accuracy_score(y_test, y_pred))"
      ]
    },
    {
      "cell_type": "code",
      "source": [
        "import pandas as pd\n",
        "from sklearn.model_selection import train_test_split\n",
        "from sklearn.svm import SVC\n",
        "from sklearn.metrics import confusion_matrix\n",
        "\n",
        "\n",
        "data = pd.read_csv(\"/content/pima-indians-diabetes.data.csv\")\n",
        "\n",
        "\n",
        "training_set, test_set = train_test_split(data, test_size=0.2, random_state=1)\n",
        "\n",
        "\n",
        "X_train = training_set.iloc[:, 0:2].values\n",
        "Y_train = training_set.iloc[:, 2].values\n",
        "X_test = test_set.iloc[:, 0:2].values\n",
        "Y_test = test_set.iloc[:, 2].values\n",
        "\n",
        "\n",
        "classifier = SVC(kernel='rbf', random_state=1)\n",
        "classifier.fit(X_train, Y_train)\n",
        "\n",
        "\n",
        "Y_pred = classifier.predict(X_test)\n",
        "\n",
        "\n",
        "test_set[\"Predictions\"] = Y_pred\n",
        "\n",
        "cm = confusion_matrix(Y_test, Y_pred)\n",
        "accuracy = float(cm.diagonal().sum()) / len(Y_test)\n",
        "\n",
        "\n",
        "print(\"\\nAccuracy of SVM for the Given Dataset: {:.2f}\".format(accuracy))"
      ],
      "metadata": {
        "colab": {
          "base_uri": "https://localhost:8080/"
        },
        "id": "OHOCFl6AgoaR",
        "outputId": "bdc5295e-da4a-487c-d0d0-fd8c69d7b1b8"
      },
      "execution_count": 16,
      "outputs": [
        {
          "output_type": "stream",
          "name": "stdout",
          "text": [
            "\n",
            "Accuracy of SVM for the Given Dataset: 0.04\n"
          ]
        }
      ]
    },
    {
      "cell_type": "code",
      "source": [
        "# Import required libraries\n",
        "import pandas as pd\n",
        "from sklearn import datasets\n",
        "from sklearn.model_selection import train_test_split\n",
        "from sklearn.ensemble import RandomForestClassifier\n",
        "from sklearn.metrics import accuracy_score, confusion_matrix\n",
        "\n",
        "# Load the Iris dataset\n",
        "iris = datasets.load_iris()\n",
        "\n",
        "# Print target names and feature names\n",
        "print(\"Target names:\", iris.target_names)\n",
        "print(\"Feature names:\", iris.feature_names)\n",
        "\n",
        "# Display the top 5 rows of the data\n",
        "print(\"First 5 records of data:\", iris.data[0:5])\n",
        "print(\"Labels (0=setosa, 1=versicolor, 2=virginica):\", iris.target)\n",
        "\n",
        "# Creating a DataFrame from the Iris dataset\n",
        "data = pd.DataFrame({\n",
        "    'sepal length': iris.data[:, 0],\n",
        "    'sepal width': iris.data[:, 1],\n",
        "    'petal length': iris.data[:, 2],\n",
        "    'petal width': iris.data[:, 3],\n",
        "    'species': iris.target\n",
        "})\n",
        "\n",
        "# Display the first few rows of the DataFrame\n",
        "print(data.head())\n",
        "\n",
        "# Define features and labels\n",
        "X = data[['sepal length', 'sepal width', 'petal length', 'petal width']]  # Features\n",
        "y = data['species']  # Labels\n",
        "\n",
        "# Split dataset into training and testing sets (70% training, 30% testing)\n",
        "X_train, X_test, y_train, y_test = train_test_split(X, y, test_size=0.3, random_state=1)\n",
        "\n",
        "# Create a Random Forest Classifier with 100 estimators\n",
        "clf = RandomForestClassifier(n_estimators=100, random_state=1)\n",
        "\n",
        "# Train the model\n",
        "clf.fit(X_train, y_train)\n",
        "\n",
        "# Predict the labels for the test set\n",
        "y_pred = clf.predict(X_test)\n",
        "\n",
        "# Calculate and print accuracy\n",
        "accuracy = accuracy_score(y_test, y_pred)\n",
        "print(\"Model Accuracy:\", accuracy)\n",
        "\n",
        "# Predict the class for a custom input\n",
        "custom_prediction = clf.predict([[3, 5, 4, 2]])\n",
        "print(\"Prediction for input [3, 5, 4, 2]:\", custom_prediction)\n",
        "\n",
        "# Calculate feature importance\n",
        "feature_imp = pd.Series(clf.feature_importances_, index=iris.feature_names).sort_values(ascending=False)\n",
        "print(\"Feature Importances:\")\n",
        "print(feature_imp)"
      ],
      "metadata": {
        "colab": {
          "base_uri": "https://localhost:8080/"
        },
        "id": "A570zYv6lJrv",
        "outputId": "624fc009-9334-4d35-c910-f5600ed10f5f"
      },
      "execution_count": 20,
      "outputs": [
        {
          "output_type": "stream",
          "name": "stdout",
          "text": [
            "Target names: ['setosa' 'versicolor' 'virginica']\n",
            "Feature names: ['sepal length (cm)', 'sepal width (cm)', 'petal length (cm)', 'petal width (cm)']\n",
            "First 5 records of data: [[5.1 3.5 1.4 0.2]\n",
            " [4.9 3.  1.4 0.2]\n",
            " [4.7 3.2 1.3 0.2]\n",
            " [4.6 3.1 1.5 0.2]\n",
            " [5.  3.6 1.4 0.2]]\n",
            "Labels (0=setosa, 1=versicolor, 2=virginica): [0 0 0 0 0 0 0 0 0 0 0 0 0 0 0 0 0 0 0 0 0 0 0 0 0 0 0 0 0 0 0 0 0 0 0 0 0\n",
            " 0 0 0 0 0 0 0 0 0 0 0 0 0 1 1 1 1 1 1 1 1 1 1 1 1 1 1 1 1 1 1 1 1 1 1 1 1\n",
            " 1 1 1 1 1 1 1 1 1 1 1 1 1 1 1 1 1 1 1 1 1 1 1 1 1 1 2 2 2 2 2 2 2 2 2 2 2\n",
            " 2 2 2 2 2 2 2 2 2 2 2 2 2 2 2 2 2 2 2 2 2 2 2 2 2 2 2 2 2 2 2 2 2 2 2 2 2\n",
            " 2 2]\n",
            "   sepal length  sepal width  petal length  petal width  species\n",
            "0           5.1          3.5           1.4          0.2        0\n",
            "1           4.9          3.0           1.4          0.2        0\n",
            "2           4.7          3.2           1.3          0.2        0\n",
            "3           4.6          3.1           1.5          0.2        0\n",
            "4           5.0          3.6           1.4          0.2        0\n",
            "Model Accuracy: 0.9555555555555556\n",
            "Prediction for input [3, 5, 4, 2]: [2]\n",
            "Feature Importances:\n",
            "petal width (cm)     0.435042\n",
            "petal length (cm)    0.412917\n",
            "sepal length (cm)    0.121049\n",
            "sepal width (cm)     0.030992\n",
            "dtype: float64\n"
          ]
        },
        {
          "output_type": "stream",
          "name": "stderr",
          "text": [
            "/usr/local/lib/python3.11/dist-packages/sklearn/utils/validation.py:2739: UserWarning: X does not have valid feature names, but RandomForestClassifier was fitted with feature names\n",
            "  warnings.warn(\n"
          ]
        }
      ]
    },
    {
      "cell_type": "code",
      "source": [
        "# Import necessary libraries\n",
        "from sklearn.datasets import make_classification\n",
        "from sklearn.ensemble import RandomForestClassifier\n",
        "from sklearn.model_selection import train_test_split\n",
        "from sklearn.metrics import accuracy_score\n",
        "\n",
        "# Generate synthetic data\n",
        "X, y = make_classification(n_samples=1000, n_features=20, n_informative=10, n_classes=2, random_state=42)\n",
        "\n",
        "# Split the data into training and testing sets\n",
        "X_train, X_test, y_train, y_test = train_test_split(X, y, test_size=0.2, random_state=42)\n",
        "\n",
        "# Define the Random Forest classifier\n",
        "random_forest_model = RandomForestClassifier(n_estimators=100, random_state=42)\n",
        "\n",
        "# Train the Random Forest model\n",
        "random_forest_model.fit(X_train, y_train)\n",
        "\n",
        "# Make predictions on the test set\n",
        "predictions = random_forest_model.predict(X_test)\n",
        "\n",
        "# Calculate accuracy\n",
        "accuracy = accuracy_score(y_test, predictions)\n",
        "\n",
        "# Print the accuracy\n",
        "print(f\"Accuracy: {accuracy}\")"
      ],
      "metadata": {
        "colab": {
          "base_uri": "https://localhost:8080/"
        },
        "id": "UBnwSLOUlJpi",
        "outputId": "b55a10c3-71bc-49b4-a616-741dc8c4c729"
      },
      "execution_count": 22,
      "outputs": [
        {
          "output_type": "stream",
          "name": "stdout",
          "text": [
            "Accuracy: 0.92\n"
          ]
        }
      ]
    }
  ]
}