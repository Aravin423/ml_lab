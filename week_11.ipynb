{
  "nbformat": 4,
  "nbformat_minor": 0,
  "metadata": {
    "colab": {
      "provenance": [],
      "authorship_tag": "ABX9TyM1CgoJhDk62aPKxITmP4+o",
      "include_colab_link": true
    },
    "kernelspec": {
      "name": "python3",
      "display_name": "Python 3"
    },
    "language_info": {
      "name": "python"
    }
  },
  "cells": [
    {
      "cell_type": "markdown",
      "metadata": {
        "id": "view-in-github",
        "colab_type": "text"
      },
      "source": [
        "<a href=\"https://colab.research.google.com/github/Aravin423/ml_lab/blob/main/week_11.ipynb\" target=\"_parent\"><img src=\"https://colab.research.google.com/assets/colab-badge.svg\" alt=\"Open In Colab\"/></a>"
      ]
    },
    {
      "cell_type": "code",
      "execution_count": 3,
      "metadata": {
        "colab": {
          "base_uri": "https://localhost:8080/"
        },
        "id": "fd17onPRiPpd",
        "outputId": "dd24cb7e-e18c-4ea3-f7a5-0e45c513ae13"
      },
      "outputs": [
        {
          "output_type": "stream",
          "name": "stdout",
          "text": [
            "\n",
            "Accuracy Of SVM For The Given Dataset: 0.73\n"
          ]
        }
      ],
      "source": [
        "import pandas as pd\n",
        "from sklearn.model_selection import train_test_split\n",
        "from sklearn.svm import SVC\n",
        "from sklearn.preprocessing import LabelEncoder\n",
        "from sklearn.metrics import confusion_matrix\n",
        "\n",
        "# Load dataset, specifying the encoding\n",
        "data = pd.read_csv(\"/content/apples_and_oranges (1).csv\", encoding='latin-1') # Try 'latin-1' or other encodings if it still fails\n",
        "\n",
        "\n",
        "# Convert non-numeric columns to numeric using LabelEncoder (if needed)\n",
        "encoder = LabelEncoder()\n",
        "for column in data.columns:\n",
        "    if data[column].dtype == 'object':\n",
        "        data[column] = encoder.fit_transform(data[column])\n",
        "\n",
        "# Split the dataset into training and test sets\n",
        "training_set, test_set = train_test_split(data, test_size=0.7, random_state=42)\n",
        "\n",
        "# Separate features (X) and target (Y)\n",
        "X_train = training_set.iloc[:, 0:2].values\n",
        "Y_train = training_set.iloc[:, 2].values\n",
        "X_test = test_set.iloc[:, 0:2].values\n",
        "Y_test = test_set.iloc[:, 2].values\n",
        "\n",
        "# Initialize Support Vector Machine and fit the training data\n",
        "classifier = SVC(kernel='rbf', random_state=1)\n",
        "classifier.fit(X_train, Y_train)\n",
        "\n",
        "# Predict the classes for the test set\n",
        "Y_pred = classifier.predict(X_test)\n",
        "\n",
        "# Attach predictions to the test set for comparison\n",
        "test_set[\"Predictions\"] = Y_pred\n",
        "\n",
        "# Evaluate the model\n",
        "cm = confusion_matrix(Y_test, Y_pred)\n",
        "accuracy = float(cm.diagonal().sum()) / len(Y_test)\n",
        "print(\"\\nAccuracy Of SVM For The Given Dataset: {:.2f}\".format(accuracy))"
      ]
    }
  ]
}